{
 "cells": [
  {
   "cell_type": "code",
   "execution_count": 66,
   "id": "c6561195-8cbf-4fe8-a8e5-a3acbf80c3b4",
   "metadata": {
    "tags": []
   },
   "outputs": [],
   "source": [
    "import numpy as np\n",
    "import pandas as pd\n",
    "import matplotlib.pyplot as plt\n",
    "import seaborn as sns\n",
    "\n",
    "from sklearn.preprocessing import StandardScaler\n",
    "from sklearn.cluster import DBSCAN\n",
    "from sklearn import metrics\n",
    "\n",
    "import joblib\n",
    "import os\n",
    "import yaml\n",
    "from google.cloud import aiplatform as vertex_ai\n",
    "from google.cloud import storage\n",
    "from google.cloud import bigquery"
   ]
  },
  {
   "cell_type": "code",
   "execution_count": 2,
   "id": "55be3905-8211-4acd-9852-b0e72e70994a",
   "metadata": {
    "tags": []
   },
   "outputs": [],
   "source": [
    "plt.rcParams['font.family'] = 'DejaVu Sans'"
   ]
  },
  {
   "cell_type": "code",
   "execution_count": 3,
   "id": "b4ce16be-13c0-44cb-87e8-51dda57c0dfa",
   "metadata": {
    "tags": []
   },
   "outputs": [],
   "source": [
    "# Load configuration\n",
    "CONFIG_PATH = \"../configs/config.yaml\"\n",
    "with open(CONFIG_PATH, 'r') as config_file:\n",
    "    config = yaml.safe_load(config_file)\n",
    "\n",
    "# Paths from configuration\n",
    "PROJECT_ID = config['gcp']['project_id']\n",
    "LOCATION = config['gcp']['location']\n",
    "TENSORBOARD_NAME = f\"projects/{PROJECT_ID}/locations/{LOCATION}/tensorboards/149744687610068992\"\n"
   ]
  },
  {
   "cell_type": "code",
   "execution_count": 4,
   "id": "e9f77307-65cc-4e78-8ac4-f0b67a9d3044",
   "metadata": {
    "tags": []
   },
   "outputs": [
    {
     "data": {
      "text/html": [
       "\n",
       "        \n",
       "    <link rel=\"stylesheet\" href=\"https://fonts.googleapis.com/icon?family=Material+Icons\">\n",
       "    <style>\n",
       "      .view-vertex-resource,\n",
       "      .view-vertex-resource:hover,\n",
       "      .view-vertex-resource:visited {\n",
       "        position: relative;\n",
       "        display: inline-flex;\n",
       "        flex-direction: row;\n",
       "        height: 32px;\n",
       "        padding: 0 12px;\n",
       "          margin: 4px 18px;\n",
       "        gap: 4px;\n",
       "        border-radius: 4px;\n",
       "\n",
       "        align-items: center;\n",
       "        justify-content: center;\n",
       "        background-color: rgb(255, 255, 255);\n",
       "        color: rgb(51, 103, 214);\n",
       "\n",
       "        font-family: Roboto,\"Helvetica Neue\",sans-serif;\n",
       "        font-size: 13px;\n",
       "        font-weight: 500;\n",
       "        text-transform: uppercase;\n",
       "        text-decoration: none !important;\n",
       "\n",
       "        transition: box-shadow 280ms cubic-bezier(0.4, 0, 0.2, 1) 0s;\n",
       "        box-shadow: 0px 3px 1px -2px rgba(0,0,0,0.2), 0px 2px 2px 0px rgba(0,0,0,0.14), 0px 1px 5px 0px rgba(0,0,0,0.12);\n",
       "      }\n",
       "      .view-vertex-resource:active {\n",
       "        box-shadow: 0px 5px 5px -3px rgba(0,0,0,0.2),0px 8px 10px 1px rgba(0,0,0,0.14),0px 3px 14px 2px rgba(0,0,0,0.12);\n",
       "      }\n",
       "      .view-vertex-resource:active .view-vertex-ripple::before {\n",
       "        position: absolute;\n",
       "        top: 0;\n",
       "        bottom: 0;\n",
       "        left: 0;\n",
       "        right: 0;\n",
       "        border-radius: 4px;\n",
       "        pointer-events: none;\n",
       "\n",
       "        content: '';\n",
       "        background-color: rgb(51, 103, 214);\n",
       "        opacity: 0.12;\n",
       "      }\n",
       "      .view-vertex-icon {\n",
       "        font-size: 18px;\n",
       "      }\n",
       "    </style>\n",
       "  \n",
       "        <a class=\"view-vertex-resource\" id=\"view-vertex-resource-8a45e40a-fc84-47d4-ba49-26a3caa195e0\" href=\"#view-view-vertex-resource-8a45e40a-fc84-47d4-ba49-26a3caa195e0\">\n",
       "          <span class=\"material-icons view-vertex-icon\">science</span>\n",
       "          <span>View Experiment</span>\n",
       "        </a>\n",
       "        \n",
       "        <script>\n",
       "          (function () {\n",
       "            const link = document.getElementById('view-vertex-resource-8a45e40a-fc84-47d4-ba49-26a3caa195e0');\n",
       "            link.addEventListener('click', (e) => {\n",
       "              if (window.google?.colab?.openUrl) {\n",
       "                window.google.colab.openUrl('https://console.cloud.google.com/vertex-ai/experiments/locations/europe-central2/experiments/retail-experiment-autolog/runs?project=mlops-retail-quant');\n",
       "              } else {\n",
       "                window.open('https://console.cloud.google.com/vertex-ai/experiments/locations/europe-central2/experiments/retail-experiment-autolog/runs?project=mlops-retail-quant', '_blank');\n",
       "              }\n",
       "              e.stopPropagation();\n",
       "              e.preventDefault();\n",
       "            });\n",
       "          })();\n",
       "        </script>\n",
       "    "
      ],
      "text/plain": [
       "<IPython.core.display.HTML object>"
      ]
     },
     "metadata": {},
     "output_type": "display_data"
    }
   ],
   "source": [
    "# Set up experiment tracking\n",
    "vertex_ai.init(\n",
    "    project=PROJECT_ID,\n",
    "    location=LOCATION,\n",
    "    staging_bucket=\"gs://experiment_tracking_bucket\",\n",
    "    experiment=\"retail-experiment-autolog\",\n",
    "    experiment_tensorboard=vertex_ai.Tensorboard(TENSORBOARD_NAME)\n",
    ")"
   ]
  },
  {
   "cell_type": "code",
   "execution_count": 5,
   "id": "0261dd5e-2752-4d4d-b9cb-60a6ce7aec09",
   "metadata": {
    "tags": []
   },
   "outputs": [
    {
     "data": {
      "text/html": [
       "<div>\n",
       "<style scoped>\n",
       "    .dataframe tbody tr th:only-of-type {\n",
       "        vertical-align: middle;\n",
       "    }\n",
       "\n",
       "    .dataframe tbody tr th {\n",
       "        vertical-align: top;\n",
       "    }\n",
       "\n",
       "    .dataframe thead th {\n",
       "        text-align: right;\n",
       "    }\n",
       "</style>\n",
       "<table border=\"1\" class=\"dataframe\">\n",
       "  <thead>\n",
       "    <tr style=\"text-align: right;\">\n",
       "      <th></th>\n",
       "      <th>invoice_no</th>\n",
       "      <th>stock_code</th>\n",
       "      <th>description</th>\n",
       "      <th>quantity</th>\n",
       "      <th>invoice_date</th>\n",
       "      <th>unit_price</th>\n",
       "      <th>customer_id</th>\n",
       "      <th>country</th>\n",
       "    </tr>\n",
       "  </thead>\n",
       "  <tbody>\n",
       "    <tr>\n",
       "      <th>0</th>\n",
       "      <td>536414</td>\n",
       "      <td>22139</td>\n",
       "      <td>None</td>\n",
       "      <td>56</td>\n",
       "      <td>2010-12-01 11:52:00+00:00</td>\n",
       "      <td>0.0</td>\n",
       "      <td>&lt;NA&gt;</td>\n",
       "      <td>United Kingdom</td>\n",
       "    </tr>\n",
       "    <tr>\n",
       "      <th>1</th>\n",
       "      <td>536545</td>\n",
       "      <td>21134</td>\n",
       "      <td>None</td>\n",
       "      <td>1</td>\n",
       "      <td>2010-12-01 14:32:00+00:00</td>\n",
       "      <td>0.0</td>\n",
       "      <td>&lt;NA&gt;</td>\n",
       "      <td>United Kingdom</td>\n",
       "    </tr>\n",
       "    <tr>\n",
       "      <th>2</th>\n",
       "      <td>536546</td>\n",
       "      <td>22145</td>\n",
       "      <td>None</td>\n",
       "      <td>1</td>\n",
       "      <td>2010-12-01 14:33:00+00:00</td>\n",
       "      <td>0.0</td>\n",
       "      <td>&lt;NA&gt;</td>\n",
       "      <td>United Kingdom</td>\n",
       "    </tr>\n",
       "    <tr>\n",
       "      <th>3</th>\n",
       "      <td>536547</td>\n",
       "      <td>37509</td>\n",
       "      <td>None</td>\n",
       "      <td>1</td>\n",
       "      <td>2010-12-01 14:33:00+00:00</td>\n",
       "      <td>0.0</td>\n",
       "      <td>&lt;NA&gt;</td>\n",
       "      <td>United Kingdom</td>\n",
       "    </tr>\n",
       "    <tr>\n",
       "      <th>4</th>\n",
       "      <td>536549</td>\n",
       "      <td>85226A</td>\n",
       "      <td>None</td>\n",
       "      <td>1</td>\n",
       "      <td>2010-12-01 14:34:00+00:00</td>\n",
       "      <td>0.0</td>\n",
       "      <td>&lt;NA&gt;</td>\n",
       "      <td>United Kingdom</td>\n",
       "    </tr>\n",
       "  </tbody>\n",
       "</table>\n",
       "</div>"
      ],
      "text/plain": [
       "  invoice_no stock_code description  quantity              invoice_date  \\\n",
       "0     536414      22139        None        56 2010-12-01 11:52:00+00:00   \n",
       "1     536545      21134        None         1 2010-12-01 14:32:00+00:00   \n",
       "2     536546      22145        None         1 2010-12-01 14:33:00+00:00   \n",
       "3     536547      37509        None         1 2010-12-01 14:33:00+00:00   \n",
       "4     536549     85226A        None         1 2010-12-01 14:34:00+00:00   \n",
       "\n",
       "   unit_price  customer_id         country  \n",
       "0         0.0         <NA>  United Kingdom  \n",
       "1         0.0         <NA>  United Kingdom  \n",
       "2         0.0         <NA>  United Kingdom  \n",
       "3         0.0         <NA>  United Kingdom  \n",
       "4         0.0         <NA>  United Kingdom  "
      ]
     },
     "execution_count": 5,
     "metadata": {},
     "output_type": "execute_result"
    }
   ],
   "source": [
    "# Set up BigQuery client\n",
    "client = bigquery.Client(project=\"mlops-retail-quant\")\n",
    "\n",
    "# Query the data from BigQuery\n",
    "query = \"\"\"\n",
    "SELECT * FROM `mlops-retail-quant.retail_dataset.raw_data_table`\n",
    "\"\"\"\n",
    "df = client.query(query).to_dataframe()\n",
    "\n",
    "# Display the dataframe\n",
    "df.head()\n"
   ]
  },
  {
   "cell_type": "code",
   "execution_count": 6,
   "id": "af3c660b-543a-48e9-b4ab-4d2aa9db80d5",
   "metadata": {
    "tags": []
   },
   "outputs": [
    {
     "data": {
      "text/plain": [
       "(541909, 8)"
      ]
     },
     "execution_count": 6,
     "metadata": {},
     "output_type": "execute_result"
    }
   ],
   "source": [
    "df.shape"
   ]
  },
  {
   "cell_type": "code",
   "execution_count": 7,
   "id": "9b1d3c5d-3bb9-4f22-bb2b-830175ca233a",
   "metadata": {
    "tags": []
   },
   "outputs": [
    {
     "data": {
      "text/plain": [
       "invoice_no                   object\n",
       "stock_code                   object\n",
       "description                  object\n",
       "quantity                      Int64\n",
       "invoice_date    datetime64[us, UTC]\n",
       "unit_price                  float64\n",
       "customer_id                   Int64\n",
       "country                      object\n",
       "dtype: object"
      ]
     },
     "execution_count": 7,
     "metadata": {},
     "output_type": "execute_result"
    }
   ],
   "source": [
    "df.dtypes"
   ]
  },
  {
   "cell_type": "code",
   "execution_count": 8,
   "id": "37070136-d31f-4db1-b8b8-2a3785e755df",
   "metadata": {
    "tags": []
   },
   "outputs": [
    {
     "name": "stdout",
     "output_type": "stream",
     "text": [
      "customer_id    135080\n",
      "description      1454\n",
      "dtype: int64\n"
     ]
    }
   ],
   "source": [
    "print(df.isnull().sum()[df.isnull().sum()>0].sort_values(ascending = False))"
   ]
  },
  {
   "cell_type": "code",
   "execution_count": 9,
   "id": "491628bb-ad0a-4eb7-9072-2dc85d6e7c44",
   "metadata": {
    "tags": []
   },
   "outputs": [
    {
     "data": {
      "text/plain": [
       "5268"
      ]
     },
     "execution_count": 9,
     "metadata": {},
     "output_type": "execute_result"
    }
   ],
   "source": [
    "df.duplicated().sum()"
   ]
  },
  {
   "cell_type": "code",
   "execution_count": 10,
   "id": "81b0485c-483f-4f97-a346-4fe01c43de35",
   "metadata": {
    "tags": []
   },
   "outputs": [
    {
     "name": "stdout",
     "output_type": "stream",
     "text": [
      "<class 'pandas.core.frame.DataFrame'>\n",
      "RangeIndex: 541909 entries, 0 to 541908\n",
      "Data columns (total 8 columns):\n",
      " #   Column        Non-Null Count   Dtype              \n",
      "---  ------        --------------   -----              \n",
      " 0   invoice_no    541909 non-null  object             \n",
      " 1   stock_code    541909 non-null  object             \n",
      " 2   description   540455 non-null  object             \n",
      " 3   quantity      541909 non-null  Int64              \n",
      " 4   invoice_date  541909 non-null  datetime64[us, UTC]\n",
      " 5   unit_price    541909 non-null  float64            \n",
      " 6   customer_id   406829 non-null  Int64              \n",
      " 7   country       541909 non-null  object             \n",
      "dtypes: Int64(2), datetime64[us, UTC](1), float64(1), object(4)\n",
      "memory usage: 34.1+ MB\n"
     ]
    }
   ],
   "source": [
    "df.info()"
   ]
  },
  {
   "cell_type": "markdown",
   "id": "ffcdbb23-4c70-4090-b267-43bbc9cce1fb",
   "metadata": {},
   "source": [
    "### Data Cleaning"
   ]
  },
  {
   "cell_type": "code",
   "execution_count": 11,
   "id": "ccf226da-4b5c-4dc2-82c6-47cf008f4d90",
   "metadata": {
    "tags": []
   },
   "outputs": [
    {
     "name": "stdout",
     "output_type": "stream",
     "text": [
      "Shape of df before removing NaN's CustomerID (541909, 8)\n",
      "Shape of df after removing NaN's CustomerID (406829, 8)\n"
     ]
    }
   ],
   "source": [
    "#Removing NaN's in Customer ID\n",
    "print(\"Shape of df before removing NaN's CustomerID\",df.shape)\n",
    "df_v2 = df.dropna(subset=\"customer_id\",axis=0)\n",
    "print(\"Shape of df after removing NaN's CustomerID\",df_v2.shape)"
   ]
  },
  {
   "cell_type": "code",
   "execution_count": 12,
   "id": "0de696a9-8e0f-46f5-a167-138df358df8d",
   "metadata": {
    "tags": []
   },
   "outputs": [
    {
     "name": "stdout",
     "output_type": "stream",
     "text": [
      "Missing values in each column after cleaning customerID :\n",
      " invoice_no      0\n",
      "stock_code      0\n",
      "description     0\n",
      "quantity        0\n",
      "invoice_date    0\n",
      "unit_price      0\n",
      "customer_id     0\n",
      "country         0\n",
      "dtype: int64\n"
     ]
    }
   ],
   "source": [
    "print(\"Missing values in each column after cleaning customerID :\\n\",df_v2.isnull().sum())"
   ]
  },
  {
   "cell_type": "code",
   "execution_count": 13,
   "id": "acb20528-bdd2-4424-976f-1a1a5601dad9",
   "metadata": {
    "tags": []
   },
   "outputs": [
    {
     "name": "stdout",
     "output_type": "stream",
     "text": [
      "Dataset is free from cancelled products information\n"
     ]
    }
   ],
   "source": [
    "# after reading invoice_no starts with the 'c' means cancelled transaction\n",
    "df_v3 = df_v2[~df_v2.invoice_no.str.contains('C',na=False)]\n",
    "print(\"Dataset is free from cancelled products information\")"
   ]
  },
  {
   "cell_type": "code",
   "execution_count": 14,
   "id": "ce5891b5-b387-4143-ae38-8a3d9a2b56db",
   "metadata": {
    "tags": []
   },
   "outputs": [
    {
     "name": "stdout",
     "output_type": "stream",
     "text": [
      "Number of duplicates before cleaning: 5192\n",
      "Number of duplicates after cleaning: 0\n"
     ]
    }
   ],
   "source": [
    "# Removing duplicates (Values in all columns are identical)\n",
    "print(\"Number of duplicates before cleaning:\",df_v3.duplicated().sum())\n",
    "df_v4 = df_v3.drop_duplicates(keep=\"first\")\n",
    "print(\"Number of duplicates after cleaning:\",df_v4.duplicated().sum())"
   ]
  },
  {
   "cell_type": "code",
   "execution_count": 15,
   "id": "86b3c8f9-330b-4065-8377-82aeb8c9fadc",
   "metadata": {
    "tags": []
   },
   "outputs": [
    {
     "name": "stdout",
     "output_type": "stream",
     "text": [
      "Negative value in Quantity is: 0\n",
      "Negative value in Unit Price is: 0\n"
     ]
    }
   ],
   "source": [
    "print(\"Negative value in Quantity is:\",(df_v4.quantity<0).sum())\n",
    "print(\"Negative value in Unit Price is:\",(df_v4.unit_price<0).sum())"
   ]
  },
  {
   "cell_type": "code",
   "execution_count": 16,
   "id": "fb06418f-4b66-4e45-9625-16ecf41d76b5",
   "metadata": {
    "tags": []
   },
   "outputs": [
    {
     "data": {
      "image/png": "[encoded data removed]",
      "text/plain": [
       "<Figure size 1200x500 with 2 Axes>"
      ]
     },
     "metadata": {},
     "output_type": "display_data"
    }
   ],
   "source": [
    "# Boxplot for quantity and unit price\n",
    "plt.figure(figsize=(12, 5))\n",
    "plt.subplot(1, 2, 1)\n",
    "sns.boxplot(x=df_v4['quantity'])\n",
    "plt.title('Quantity Outliers')\n",
    "\n",
    "plt.subplot(1, 2, 2)\n",
    "sns.boxplot(x=df_v4['unit_price'])\n",
    "plt.title('Unit Price Outliers')\n",
    "\n",
    "plt.show()"
   ]
  },
  {
   "cell_type": "code",
   "execution_count": 17,
   "id": "99e622af-79b3-4572-a9d0-295c271da56e",
   "metadata": {
    "tags": []
   },
   "outputs": [],
   "source": [
    "# Define function to remove outliers using IQR\n",
    "def remove_outliers(df, column):\n",
    "    Q1 = df[column].quantile(0.25)\n",
    "    Q3 = df[column].quantile(0.75)\n",
    "    IQR = Q3 - Q1\n",
    "    lower_bound = Q1 - 1.5 * IQR\n",
    "    upper_bound = Q3 + 1.5 * IQR\n",
    "    return df[(df[column] >= lower_bound) & (df[column] <= upper_bound)]\n",
    "\n",
    "# Remove outliers from quantity and unit price\n",
    "df_v5 = remove_outliers(df_v4, 'quantity')\n",
    "df_v6 = remove_outliers(df_v5, 'unit_price')\n"
   ]
  },
  {
   "cell_type": "code",
   "execution_count": 18,
   "id": "60a99653-2f7c-4d7b-a2c6-b29e35a64f3d",
   "metadata": {
    "tags": []
   },
   "outputs": [
    {
     "data": {
      "image/png": "[encoded data removed]",
      "text/plain": [
       "<Figure size 1200x500 with 2 Axes>"
      ]
     },
     "metadata": {},
     "output_type": "display_data"
    }
   ],
   "source": [
    "# Boxplot for quantity and unit price\n",
    "plt.figure(figsize=(12, 5))\n",
    "plt.subplot(1, 2, 1)\n",
    "sns.boxplot(x=df_v6['quantity'])\n",
    "plt.title('Quantity Outliers')\n",
    "\n",
    "plt.subplot(1, 2, 2)\n",
    "sns.boxplot(x=df_v6['unit_price'])\n",
    "plt.title('Unit Price Outliers')\n",
    "\n",
    "plt.show()"
   ]
  },
  {
   "cell_type": "code",
   "execution_count": 19,
   "id": "ced294c2-b178-4f12-acdd-071d79132837",
   "metadata": {
    "tags": []
   },
   "outputs": [
    {
     "data": {
      "text/plain": [
       "(333265, 8)"
      ]
     },
     "execution_count": 19,
     "metadata": {},
     "output_type": "execute_result"
    }
   ],
   "source": [
    "df_v6.shape"
   ]
  },
  {
   "cell_type": "markdown",
   "id": "473edab1-64c7-4eb2-9564-fe77d9f2e92c",
   "metadata": {},
   "source": [
    "### RFMT\n"
   ]
  },
  {
   "cell_type": "code",
   "execution_count": 20,
   "id": "071b02f7-8e07-4d27-8878-105b900d926a",
   "metadata": {
    "tags": []
   },
   "outputs": [],
   "source": [
    "df_v7 = df_v6.copy()\n",
    "df_v7['total'] = df_v6['quantity'] * df_v6['unit_price']"
   ]
  },
  {
   "cell_type": "code",
   "execution_count": 21,
   "id": "1e6710b1-29dd-4130-9602-0a730bd8412f",
   "metadata": {
    "tags": []
   },
   "outputs": [
    {
     "data": {
      "text/html": [
       "<div>\n",
       "<style scoped>\n",
       "    .dataframe tbody tr th:only-of-type {\n",
       "        vertical-align: middle;\n",
       "    }\n",
       "\n",
       "    .dataframe tbody tr th {\n",
       "        vertical-align: top;\n",
       "    }\n",
       "\n",
       "    .dataframe thead th {\n",
       "        text-align: right;\n",
       "    }\n",
       "</style>\n",
       "<table border=\"1\" class=\"dataframe\">\n",
       "  <thead>\n",
       "    <tr style=\"text-align: right;\">\n",
       "      <th></th>\n",
       "      <th>Recency</th>\n",
       "      <th>Frequency</th>\n",
       "      <th>Monetary</th>\n",
       "      <th>Interpurchase_Time</th>\n",
       "    </tr>\n",
       "    <tr>\n",
       "      <th>customer_id</th>\n",
       "      <th></th>\n",
       "      <th></th>\n",
       "      <th></th>\n",
       "      <th></th>\n",
       "    </tr>\n",
       "  </thead>\n",
       "  <tbody>\n",
       "    <tr>\n",
       "      <th>12347</th>\n",
       "      <td>1</td>\n",
       "      <td>7</td>\n",
       "      <td>3314.73</td>\n",
       "      <td>52.142857</td>\n",
       "    </tr>\n",
       "    <tr>\n",
       "      <th>12348</th>\n",
       "      <td>248</td>\n",
       "      <td>3</td>\n",
       "      <td>90.2</td>\n",
       "      <td>36.333333</td>\n",
       "    </tr>\n",
       "    <tr>\n",
       "      <th>12349</th>\n",
       "      <td>18</td>\n",
       "      <td>1</td>\n",
       "      <td>999.15</td>\n",
       "      <td>0.000000</td>\n",
       "    </tr>\n",
       "    <tr>\n",
       "      <th>12350</th>\n",
       "      <td>309</td>\n",
       "      <td>1</td>\n",
       "      <td>294.4</td>\n",
       "      <td>0.000000</td>\n",
       "    </tr>\n",
       "    <tr>\n",
       "      <th>12352</th>\n",
       "      <td>35</td>\n",
       "      <td>7</td>\n",
       "      <td>1130.94</td>\n",
       "      <td>37.142857</td>\n",
       "    </tr>\n",
       "  </tbody>\n",
       "</table>\n",
       "</div>"
      ],
      "text/plain": [
       "             Recency  Frequency  Monetary  Interpurchase_Time\n",
       "customer_id                                                  \n",
       "12347              1          7   3314.73           52.142857\n",
       "12348            248          3      90.2           36.333333\n",
       "12349             18          1    999.15            0.000000\n",
       "12350            309          1     294.4            0.000000\n",
       "12352             35          7   1130.94           37.142857"
      ]
     },
     "execution_count": 21,
     "metadata": {},
     "output_type": "execute_result"
    }
   ],
   "source": [
    "latest_date = df_v7['invoice_date'].max()\n",
    "\n",
    "# Create RFM features and Shopping Cycle\n",
    "RFM = df_v7.groupby('customer_id').agg(\n",
    "    Recency=('invoice_date', lambda x: (latest_date - x.max()).days),\n",
    "    Frequency=('invoice_no', 'nunique'),\n",
    "    Monetary=('total', 'sum'),\n",
    "    Tenure=('invoice_date', lambda x: (x.max() - x.min()).days)\n",
    ")\n",
    "\n",
    "# Calculate Interpurchase Time\n",
    "RFM['Interpurchase_Time'] = RFM['Tenure'] / RFM['Frequency']\n",
    "\n",
    "# Create RFMT dataframe with required features\n",
    "RFMT = RFM[['Recency', 'Frequency', 'Monetary', 'Interpurchase_Time']]\n",
    "\n",
    "\n",
    "RFMT.head()"
   ]
  },
  {
   "cell_type": "markdown",
   "id": "ee7e85b4-e32a-40b9-9a62-72eead2cfba0",
   "metadata": {},
   "source": [
    "### Customer Segmentation"
   ]
  },
  {
   "cell_type": "code",
   "execution_count": 22,
   "id": "9009f36c-d644-48c4-ae3e-1123bfa0a7a9",
   "metadata": {
    "tags": []
   },
   "outputs": [],
   "source": [
    "# Standardizing the RFMT data\n",
    "scaler = StandardScaler()\n",
    "rfmt_scaled = scaler.fit_transform(RFMT)\n"
   ]
  },
  {
   "cell_type": "code",
   "execution_count": 63,
   "id": "ab271826-633d-487b-8335-eb493d6f7ae4",
   "metadata": {
    "tags": []
   },
   "outputs": [],
   "source": [
    "db1 = DBSCAN(eps=0.3, min_samples=10).fit(rfmt_scaled)\n",
    "labels1 = db1.labels_"
   ]
  },
  {
   "cell_type": "code",
   "execution_count": 64,
   "id": "8de2898c-f074-4645-b4ec-86ed525ef29b",
   "metadata": {
    "tags": []
   },
   "outputs": [
    {
     "name": "stdout",
     "output_type": "stream",
     "text": [
      "Estimated number of clusters: 2\n",
      "Estimated number of noise points: 294\n"
     ]
    }
   ],
   "source": [
    "# Number of clusters in labels, ignoring noise if present.\n",
    "n_clusters_1 = len(set(labels1)) - (1 if -1 in labels1 else 0)\n",
    "n_noise_1 = list(labels1).count(-1)\n",
    "\n",
    "print(\"Estimated number of clusters: %d\" % n_clusters_1)\n",
    "print(\"Estimated number of noise points: %d\" % n_noise_1)"
   ]
  },
  {
   "cell_type": "code",
   "execution_count": 67,
   "id": "bcf0f3bc-66de-4e5d-b6e8-37a99269ec49",
   "metadata": {
    "tags": []
   },
   "outputs": [
    {
     "name": "stdout",
     "output_type": "stream",
     "text": [
      "Silhouette Coefficient: 0.165\n"
     ]
    }
   ],
   "source": [
    "print(f\"Silhouette Coefficient: {metrics.silhouette_score(rfmt_scaled, labels1):.3f}\")"
   ]
  },
  {
   "cell_type": "code",
   "execution_count": 38,
   "id": "07cddb21-bead-43cd-b868-d0254b9a40e1",
   "metadata": {
    "tags": []
   },
   "outputs": [
    {
     "name": "stdout",
     "output_type": "stream",
     "text": [
      "Estimated number of clusters: 5\n",
      "Estimated number of noise points: 3098\n"
     ]
    }
   ],
   "source": [
    "db2 = DBSCAN(eps=0.1, min_samples=50).fit(rfmt_scaled)\n",
    "labels2 = db2.labels_\n",
    "\n",
    "n_clusters_2 = len(set(labels2)) - (1 if -1 in labels2 else 0)\n",
    "n_noise_2 = list(labels2).count(-1)\n",
    "\n",
    "print(\"Estimated number of clusters: %d\" % n_clusters_2)\n",
    "print(\"Estimated number of noise points: %d\" % n_noise_2)"
   ]
  },
  {
   "cell_type": "code",
   "execution_count": 45,
   "id": "4cc26037-d19a-4dc6-96e7-0da13f904fbc",
   "metadata": {
    "tags": []
   },
   "outputs": [
    {
     "name": "stdout",
     "output_type": "stream",
     "text": [
      "Silhouette Coefficient: 0.043\n"
     ]
    }
   ],
   "source": [
    "print(f\"Silhouette Coefficient: {metrics.silhouette_score(rfmt_scaled, labels2):.3f}\")"
   ]
  },
  {
   "cell_type": "code",
   "execution_count": 40,
   "id": "b7874ae4-8f90-46d3-b5eb-ab597602e952",
   "metadata": {
    "tags": []
   },
   "outputs": [],
   "source": [
    "RFMT['Cluster'] = db2.fit_predict(rfmt_scaled)"
   ]
  },
  {
   "cell_type": "code",
   "execution_count": 42,
   "id": "a53fba3d-45b8-428d-9fdd-d77154e39a58",
   "metadata": {
    "tags": []
   },
   "outputs": [
    {
     "data": {
      "image/png": "[encoded data removed]",
      "text/plain": [
       "<Figure size 1000x600 with 1 Axes>"
      ]
     },
     "metadata": {},
     "output_type": "display_data"
    }
   ],
   "source": [
    "from sklearn.decomposition import PCA\n",
    "\n",
    "pca = PCA(n_components=2)\n",
    "rfmt_pca = pca.fit_transform(rfmt_scaled)\n",
    "\n",
    "# Plot the clusters\n",
    "plt.figure(figsize=(10, 6))\n",
    "plt.scatter(rfmt_pca[:, 0], rfmt_pca[:, 1], c=RFMT['Cluster'], cmap='viridis')\n",
    "plt.xlabel('PCA Component 1')\n",
    "plt.ylabel('PCA Component 2')\n",
    "plt.title('Customer Segments based on RFMT')\n",
    "plt.show()\n"
   ]
  },
  {
   "cell_type": "code",
   "execution_count": 41,
   "id": "8f8ffa4b-0f90-4ad8-b909-d5f5904cc4a5",
   "metadata": {
    "tags": []
   },
   "outputs": [
    {
     "data": {
      "image/png": "[encoded data removed]",
      "text/plain": [
       "<Figure size 1000x600 with 2 Axes>"
      ]
     },
     "metadata": {},
     "output_type": "display_data"
    }
   ],
   "source": [
    "from sklearn.manifold import TSNE\n",
    "\n",
    "tsne = TSNE(n_components=2, random_state=42, perplexity=30)\n",
    "rfmt_tsne = tsne.fit_transform(rfmt_scaled)\n",
    "\n",
    "# Plot the t-SNE results\n",
    "plt.figure(figsize=(10, 6))\n",
    "plt.scatter(rfmt_tsne[:, 0], rfmt_tsne[:, 1], c=RFMT['Cluster'], cmap='viridis', alpha=0.7)\n",
    "plt.xlabel('t-SNE Component 1')\n",
    "plt.ylabel('t-SNE Component 2')\n",
    "plt.title('Customer Segments based on RFMT with t-SNE')\n",
    "plt.colorbar(label='Cluster')\n",
    "plt.show()\n"
   ]
  },
  {
   "cell_type": "code",
   "execution_count": 72,
   "id": "4f812e36-040d-4b3c-b063-1e80aa2fd518",
   "metadata": {
    "tags": []
   },
   "outputs": [
    {
     "name": "stdout",
     "output_type": "stream",
     "text": [
      "Associating projects/456146517905/locations/europe-central2/metadataStores/default/contexts/retail-experiment-autolog-dbscan-20241013-run1 to Experiment: retail-experiment-autolog\n"
     ]
    },
    {
     "data": {
      "text/html": [
       "\n",
       "        \n",
       "    <link rel=\"stylesheet\" href=\"https://fonts.googleapis.com/icon?family=Material+Icons\">\n",
       "    <style>\n",
       "      .view-vertex-resource,\n",
       "      .view-vertex-resource:hover,\n",
       "      .view-vertex-resource:visited {\n",
       "        position: relative;\n",
       "        display: inline-flex;\n",
       "        flex-direction: row;\n",
       "        height: 32px;\n",
       "        padding: 0 12px;\n",
       "          margin: 4px 18px;\n",
       "        gap: 4px;\n",
       "        border-radius: 4px;\n",
       "\n",
       "        align-items: center;\n",
       "        justify-content: center;\n",
       "        background-color: rgb(255, 255, 255);\n",
       "        color: rgb(51, 103, 214);\n",
       "\n",
       "        font-family: Roboto,\"Helvetica Neue\",sans-serif;\n",
       "        font-size: 13px;\n",
       "        font-weight: 500;\n",
       "        text-transform: uppercase;\n",
       "        text-decoration: none !important;\n",
       "\n",
       "        transition: box-shadow 280ms cubic-bezier(0.4, 0, 0.2, 1) 0s;\n",
       "        box-shadow: 0px 3px 1px -2px rgba(0,0,0,0.2), 0px 2px 2px 0px rgba(0,0,0,0.14), 0px 1px 5px 0px rgba(0,0,0,0.12);\n",
       "      }\n",
       "      .view-vertex-resource:active {\n",
       "        box-shadow: 0px 5px 5px -3px rgba(0,0,0,0.2),0px 8px 10px 1px rgba(0,0,0,0.14),0px 3px 14px 2px rgba(0,0,0,0.12);\n",
       "      }\n",
       "      .view-vertex-resource:active .view-vertex-ripple::before {\n",
       "        position: absolute;\n",
       "        top: 0;\n",
       "        bottom: 0;\n",
       "        left: 0;\n",
       "        right: 0;\n",
       "        border-radius: 4px;\n",
       "        pointer-events: none;\n",
       "\n",
       "        content: '';\n",
       "        background-color: rgb(51, 103, 214);\n",
       "        opacity: 0.12;\n",
       "      }\n",
       "      .view-vertex-icon {\n",
       "        font-size: 18px;\n",
       "      }\n",
       "    </style>\n",
       "  \n",
       "        <a class=\"view-vertex-resource\" id=\"view-vertex-resource-6c1de7db-c0fe-42b6-b703-79bc32558b3d\" href=\"#view-view-vertex-resource-6c1de7db-c0fe-42b6-b703-79bc32558b3d\">\n",
       "          <span class=\"material-icons view-vertex-icon\">science</span>\n",
       "          <span>View Experiment Run</span>\n",
       "        </a>\n",
       "        \n",
       "        <script>\n",
       "          (function () {\n",
       "            const link = document.getElementById('view-vertex-resource-6c1de7db-c0fe-42b6-b703-79bc32558b3d');\n",
       "            link.addEventListener('click', (e) => {\n",
       "              if (window.google?.colab?.openUrl) {\n",
       "                window.google.colab.openUrl('https://console.cloud.google.com/vertex-ai/experiments/locations/europe-central2/experiments/retail-experiment-autolog/runs/retail-experiment-autolog-dbscan-20241013-run1?project=mlops-retail-quant');\n",
       "              } else {\n",
       "                window.open('https://console.cloud.google.com/vertex-ai/experiments/locations/europe-central2/experiments/retail-experiment-autolog/runs/retail-experiment-autolog-dbscan-20241013-run1?project=mlops-retail-quant', '_blank');\n",
       "              }\n",
       "              e.stopPropagation();\n",
       "              e.preventDefault();\n",
       "            });\n",
       "          })();\n",
       "        </script>\n",
       "    "
      ],
      "text/plain": [
       "<IPython.core.display.HTML object>"
      ]
     },
     "metadata": {},
     "output_type": "display_data"
    },
    {
     "name": "stdout",
     "output_type": "stream",
     "text": [
      "Associating projects/456146517905/locations/europe-central2/metadataStores/default/contexts/retail-experiment-autolog-dbscan-20241013-run2 to Experiment: retail-experiment-autolog\n"
     ]
    },
    {
     "data": {
      "text/html": [
       "\n",
       "        \n",
       "    <link rel=\"stylesheet\" href=\"https://fonts.googleapis.com/icon?family=Material+Icons\">\n",
       "    <style>\n",
       "      .view-vertex-resource,\n",
       "      .view-vertex-resource:hover,\n",
       "      .view-vertex-resource:visited {\n",
       "        position: relative;\n",
       "        display: inline-flex;\n",
       "        flex-direction: row;\n",
       "        height: 32px;\n",
       "        padding: 0 12px;\n",
       "          margin: 4px 18px;\n",
       "        gap: 4px;\n",
       "        border-radius: 4px;\n",
       "\n",
       "        align-items: center;\n",
       "        justify-content: center;\n",
       "        background-color: rgb(255, 255, 255);\n",
       "        color: rgb(51, 103, 214);\n",
       "\n",
       "        font-family: Roboto,\"Helvetica Neue\",sans-serif;\n",
       "        font-size: 13px;\n",
       "        font-weight: 500;\n",
       "        text-transform: uppercase;\n",
       "        text-decoration: none !important;\n",
       "\n",
       "        transition: box-shadow 280ms cubic-bezier(0.4, 0, 0.2, 1) 0s;\n",
       "        box-shadow: 0px 3px 1px -2px rgba(0,0,0,0.2), 0px 2px 2px 0px rgba(0,0,0,0.14), 0px 1px 5px 0px rgba(0,0,0,0.12);\n",
       "      }\n",
       "      .view-vertex-resource:active {\n",
       "        box-shadow: 0px 5px 5px -3px rgba(0,0,0,0.2),0px 8px 10px 1px rgba(0,0,0,0.14),0px 3px 14px 2px rgba(0,0,0,0.12);\n",
       "      }\n",
       "      .view-vertex-resource:active .view-vertex-ripple::before {\n",
       "        position: absolute;\n",
       "        top: 0;\n",
       "        bottom: 0;\n",
       "        left: 0;\n",
       "        right: 0;\n",
       "        border-radius: 4px;\n",
       "        pointer-events: none;\n",
       "\n",
       "        content: '';\n",
       "        background-color: rgb(51, 103, 214);\n",
       "        opacity: 0.12;\n",
       "      }\n",
       "      .view-vertex-icon {\n",
       "        font-size: 18px;\n",
       "      }\n",
       "    </style>\n",
       "  \n",
       "        <a class=\"view-vertex-resource\" id=\"view-vertex-resource-23ce5d40-6884-42c2-9c9c-3992492f94ef\" href=\"#view-view-vertex-resource-23ce5d40-6884-42c2-9c9c-3992492f94ef\">\n",
       "          <span class=\"material-icons view-vertex-icon\">science</span>\n",
       "          <span>View Experiment Run</span>\n",
       "        </a>\n",
       "        \n",
       "        <script>\n",
       "          (function () {\n",
       "            const link = document.getElementById('view-vertex-resource-23ce5d40-6884-42c2-9c9c-3992492f94ef');\n",
       "            link.addEventListener('click', (e) => {\n",
       "              if (window.google?.colab?.openUrl) {\n",
       "                window.google.colab.openUrl('https://console.cloud.google.com/vertex-ai/experiments/locations/europe-central2/experiments/retail-experiment-autolog/runs/retail-experiment-autolog-dbscan-20241013-run2?project=mlops-retail-quant');\n",
       "              } else {\n",
       "                window.open('https://console.cloud.google.com/vertex-ai/experiments/locations/europe-central2/experiments/retail-experiment-autolog/runs/retail-experiment-autolog-dbscan-20241013-run2?project=mlops-retail-quant', '_blank');\n",
       "              }\n",
       "              e.stopPropagation();\n",
       "              e.preventDefault();\n",
       "            });\n",
       "          })();\n",
       "        </script>\n",
       "    "
      ],
      "text/plain": [
       "<IPython.core.display.HTML object>"
      ]
     },
     "metadata": {},
     "output_type": "display_data"
    },
    {
     "name": "stdout",
     "output_type": "stream",
     "text": [
      "Associating projects/456146517905/locations/europe-central2/metadataStores/default/contexts/retail-experiment-autolog-dbscan-20241013-run3 to Experiment: retail-experiment-autolog\n"
     ]
    },
    {
     "data": {
      "text/html": [
       "\n",
       "        \n",
       "    <link rel=\"stylesheet\" href=\"https://fonts.googleapis.com/icon?family=Material+Icons\">\n",
       "    <style>\n",
       "      .view-vertex-resource,\n",
       "      .view-vertex-resource:hover,\n",
       "      .view-vertex-resource:visited {\n",
       "        position: relative;\n",
       "        display: inline-flex;\n",
       "        flex-direction: row;\n",
       "        height: 32px;\n",
       "        padding: 0 12px;\n",
       "          margin: 4px 18px;\n",
       "        gap: 4px;\n",
       "        border-radius: 4px;\n",
       "\n",
       "        align-items: center;\n",
       "        justify-content: center;\n",
       "        background-color: rgb(255, 255, 255);\n",
       "        color: rgb(51, 103, 214);\n",
       "\n",
       "        font-family: Roboto,\"Helvetica Neue\",sans-serif;\n",
       "        font-size: 13px;\n",
       "        font-weight: 500;\n",
       "        text-transform: uppercase;\n",
       "        text-decoration: none !important;\n",
       "\n",
       "        transition: box-shadow 280ms cubic-bezier(0.4, 0, 0.2, 1) 0s;\n",
       "        box-shadow: 0px 3px 1px -2px rgba(0,0,0,0.2), 0px 2px 2px 0px rgba(0,0,0,0.14), 0px 1px 5px 0px rgba(0,0,0,0.12);\n",
       "      }\n",
       "      .view-vertex-resource:active {\n",
       "        box-shadow: 0px 5px 5px -3px rgba(0,0,0,0.2),0px 8px 10px 1px rgba(0,0,0,0.14),0px 3px 14px 2px rgba(0,0,0,0.12);\n",
       "      }\n",
       "      .view-vertex-resource:active .view-vertex-ripple::before {\n",
       "        position: absolute;\n",
       "        top: 0;\n",
       "        bottom: 0;\n",
       "        left: 0;\n",
       "        right: 0;\n",
       "        border-radius: 4px;\n",
       "        pointer-events: none;\n",
       "\n",
       "        content: '';\n",
       "        background-color: rgb(51, 103, 214);\n",
       "        opacity: 0.12;\n",
       "      }\n",
       "      .view-vertex-icon {\n",
       "        font-size: 18px;\n",
       "      }\n",
       "    </style>\n",
       "  \n",
       "        <a class=\"view-vertex-resource\" id=\"view-vertex-resource-f0a5004b-fc03-4658-ae27-47a917ce1e2f\" href=\"#view-view-vertex-resource-f0a5004b-fc03-4658-ae27-47a917ce1e2f\">\n",
       "          <span class=\"material-icons view-vertex-icon\">science</span>\n",
       "          <span>View Experiment Run</span>\n",
       "        </a>\n",
       "        \n",
       "        <script>\n",
       "          (function () {\n",
       "            const link = document.getElementById('view-vertex-resource-f0a5004b-fc03-4658-ae27-47a917ce1e2f');\n",
       "            link.addEventListener('click', (e) => {\n",
       "              if (window.google?.colab?.openUrl) {\n",
       "                window.google.colab.openUrl('https://console.cloud.google.com/vertex-ai/experiments/locations/europe-central2/experiments/retail-experiment-autolog/runs/retail-experiment-autolog-dbscan-20241013-run3?project=mlops-retail-quant');\n",
       "              } else {\n",
       "                window.open('https://console.cloud.google.com/vertex-ai/experiments/locations/europe-central2/experiments/retail-experiment-autolog/runs/retail-experiment-autolog-dbscan-20241013-run3?project=mlops-retail-quant', '_blank');\n",
       "              }\n",
       "              e.stopPropagation();\n",
       "              e.preventDefault();\n",
       "            });\n",
       "          })();\n",
       "        </script>\n",
       "    "
      ],
      "text/plain": [
       "<IPython.core.display.HTML object>"
      ]
     },
     "metadata": {},
     "output_type": "display_data"
    },
    {
     "name": "stdout",
     "output_type": "stream",
     "text": [
      "Associating projects/456146517905/locations/europe-central2/metadataStores/default/contexts/retail-experiment-autolog-dbscan-20241013-run4 to Experiment: retail-experiment-autolog\n"
     ]
    },
    {
     "data": {
      "text/html": [
       "\n",
       "        \n",
       "    <link rel=\"stylesheet\" href=\"https://fonts.googleapis.com/icon?family=Material+Icons\">\n",
       "    <style>\n",
       "      .view-vertex-resource,\n",
       "      .view-vertex-resource:hover,\n",
       "      .view-vertex-resource:visited {\n",
       "        position: relative;\n",
       "        display: inline-flex;\n",
       "        flex-direction: row;\n",
       "        height: 32px;\n",
       "        padding: 0 12px;\n",
       "          margin: 4px 18px;\n",
       "        gap: 4px;\n",
       "        border-radius: 4px;\n",
       "\n",
       "        align-items: center;\n",
       "        justify-content: center;\n",
       "        background-color: rgb(255, 255, 255);\n",
       "        color: rgb(51, 103, 214);\n",
       "\n",
       "        font-family: Roboto,\"Helvetica Neue\",sans-serif;\n",
       "        font-size: 13px;\n",
       "        font-weight: 500;\n",
       "        text-transform: uppercase;\n",
       "        text-decoration: none !important;\n",
       "\n",
       "        transition: box-shadow 280ms cubic-bezier(0.4, 0, 0.2, 1) 0s;\n",
       "        box-shadow: 0px 3px 1px -2px rgba(0,0,0,0.2), 0px 2px 2px 0px rgba(0,0,0,0.14), 0px 1px 5px 0px rgba(0,0,0,0.12);\n",
       "      }\n",
       "      .view-vertex-resource:active {\n",
       "        box-shadow: 0px 5px 5px -3px rgba(0,0,0,0.2),0px 8px 10px 1px rgba(0,0,0,0.14),0px 3px 14px 2px rgba(0,0,0,0.12);\n",
       "      }\n",
       "      .view-vertex-resource:active .view-vertex-ripple::before {\n",
       "        position: absolute;\n",
       "        top: 0;\n",
       "        bottom: 0;\n",
       "        left: 0;\n",
       "        right: 0;\n",
       "        border-radius: 4px;\n",
       "        pointer-events: none;\n",
       "\n",
       "        content: '';\n",
       "        background-color: rgb(51, 103, 214);\n",
       "        opacity: 0.12;\n",
       "      }\n",
       "      .view-vertex-icon {\n",
       "        font-size: 18px;\n",
       "      }\n",
       "    </style>\n",
       "  \n",
       "        <a class=\"view-vertex-resource\" id=\"view-vertex-resource-5d2da267-f1ef-4dfe-b91b-fb0b7bf7fa0d\" href=\"#view-view-vertex-resource-5d2da267-f1ef-4dfe-b91b-fb0b7bf7fa0d\">\n",
       "          <span class=\"material-icons view-vertex-icon\">science</span>\n",
       "          <span>View Experiment Run</span>\n",
       "        </a>\n",
       "        \n",
       "        <script>\n",
       "          (function () {\n",
       "            const link = document.getElementById('view-vertex-resource-5d2da267-f1ef-4dfe-b91b-fb0b7bf7fa0d');\n",
       "            link.addEventListener('click', (e) => {\n",
       "              if (window.google?.colab?.openUrl) {\n",
       "                window.google.colab.openUrl('https://console.cloud.google.com/vertex-ai/experiments/locations/europe-central2/experiments/retail-experiment-autolog/runs/retail-experiment-autolog-dbscan-20241013-run4?project=mlops-retail-quant');\n",
       "              } else {\n",
       "                window.open('https://console.cloud.google.com/vertex-ai/experiments/locations/europe-central2/experiments/retail-experiment-autolog/runs/retail-experiment-autolog-dbscan-20241013-run4?project=mlops-retail-quant', '_blank');\n",
       "              }\n",
       "              e.stopPropagation();\n",
       "              e.preventDefault();\n",
       "            });\n",
       "          })();\n",
       "        </script>\n",
       "    "
      ],
      "text/plain": [
       "<IPython.core.display.HTML object>"
      ]
     },
     "metadata": {},
     "output_type": "display_data"
    },
    {
     "name": "stdout",
     "output_type": "stream",
     "text": [
      "Associating projects/456146517905/locations/europe-central2/metadataStores/default/contexts/retail-experiment-autolog-dbscan-20241013-run5 to Experiment: retail-experiment-autolog\n"
     ]
    },
    {
     "data": {
      "text/html": [
       "\n",
       "        \n",
       "    <link rel=\"stylesheet\" href=\"https://fonts.googleapis.com/icon?family=Material+Icons\">\n",
       "    <style>\n",
       "      .view-vertex-resource,\n",
       "      .view-vertex-resource:hover,\n",
       "      .view-vertex-resource:visited {\n",
       "        position: relative;\n",
       "        display: inline-flex;\n",
       "        flex-direction: row;\n",
       "        height: 32px;\n",
       "        padding: 0 12px;\n",
       "          margin: 4px 18px;\n",
       "        gap: 4px;\n",
       "        border-radius: 4px;\n",
       "\n",
       "        align-items: center;\n",
       "        justify-content: center;\n",
       "        background-color: rgb(255, 255, 255);\n",
       "        color: rgb(51, 103, 214);\n",
       "\n",
       "        font-family: Roboto,\"Helvetica Neue\",sans-serif;\n",
       "        font-size: 13px;\n",
       "        font-weight: 500;\n",
       "        text-transform: uppercase;\n",
       "        text-decoration: none !important;\n",
       "\n",
       "        transition: box-shadow 280ms cubic-bezier(0.4, 0, 0.2, 1) 0s;\n",
       "        box-shadow: 0px 3px 1px -2px rgba(0,0,0,0.2), 0px 2px 2px 0px rgba(0,0,0,0.14), 0px 1px 5px 0px rgba(0,0,0,0.12);\n",
       "      }\n",
       "      .view-vertex-resource:active {\n",
       "        box-shadow: 0px 5px 5px -3px rgba(0,0,0,0.2),0px 8px 10px 1px rgba(0,0,0,0.14),0px 3px 14px 2px rgba(0,0,0,0.12);\n",
       "      }\n",
       "      .view-vertex-resource:active .view-vertex-ripple::before {\n",
       "        position: absolute;\n",
       "        top: 0;\n",
       "        bottom: 0;\n",
       "        left: 0;\n",
       "        right: 0;\n",
       "        border-radius: 4px;\n",
       "        pointer-events: none;\n",
       "\n",
       "        content: '';\n",
       "        background-color: rgb(51, 103, 214);\n",
       "        opacity: 0.12;\n",
       "      }\n",
       "      .view-vertex-icon {\n",
       "        font-size: 18px;\n",
       "      }\n",
       "    </style>\n",
       "  \n",
       "        <a class=\"view-vertex-resource\" id=\"view-vertex-resource-2befc779-0c07-4406-bbf2-6c16803d1b54\" href=\"#view-view-vertex-resource-2befc779-0c07-4406-bbf2-6c16803d1b54\">\n",
       "          <span class=\"material-icons view-vertex-icon\">science</span>\n",
       "          <span>View Experiment Run</span>\n",
       "        </a>\n",
       "        \n",
       "        <script>\n",
       "          (function () {\n",
       "            const link = document.getElementById('view-vertex-resource-2befc779-0c07-4406-bbf2-6c16803d1b54');\n",
       "            link.addEventListener('click', (e) => {\n",
       "              if (window.google?.colab?.openUrl) {\n",
       "                window.google.colab.openUrl('https://console.cloud.google.com/vertex-ai/experiments/locations/europe-central2/experiments/retail-experiment-autolog/runs/retail-experiment-autolog-dbscan-20241013-run5?project=mlops-retail-quant');\n",
       "              } else {\n",
       "                window.open('https://console.cloud.google.com/vertex-ai/experiments/locations/europe-central2/experiments/retail-experiment-autolog/runs/retail-experiment-autolog-dbscan-20241013-run5?project=mlops-retail-quant', '_blank');\n",
       "              }\n",
       "              e.stopPropagation();\n",
       "              e.preventDefault();\n",
       "            });\n",
       "          })();\n",
       "        </script>\n",
       "    "
      ],
      "text/plain": [
       "<IPython.core.display.HTML object>"
      ]
     },
     "metadata": {},
     "output_type": "display_data"
    }
   ],
   "source": [
    "from datetime import datetime\n",
    "today = datetime.today().strftime('%Y%m%d')\n",
    "\n",
    "metrics_ = {}\n",
    "params = {}\n",
    "\n",
    "for k in range(1, 6):\n",
    "    with vertex_ai.start_run(run=f\"dbscan-{today}-run{k}\"):\n",
    "        db = DBSCAN(eps=k/10, min_samples=50).fit(rfmt_scaled)\n",
    "        labels = db.labels_\n",
    "        silhouette_avg = metrics.silhouette_score(rfmt_scaled, labels)\n",
    "        n_clusters_ = len(set(labels)) - (1 if -1 in labels else 0)\n",
    "        n_noise_ = list(labels).count(-1)\n",
    "\n",
    "        metrics_[\"silhouette_score\"] = silhouette_avg\n",
    "        metrics_[\"noise\"] = n_noise_\n",
    "        \n",
    "        params[\"n_clusters\"] = n_clusters_\n",
    "        \n",
    "\n",
    "        vertex_ai.log_metrics(metrics_) # Log metrics\n",
    "        vertex_ai.log_params(params) # Log model parameters  "
   ]
  },
  {
   "cell_type": "code",
   "execution_count": 71,
   "id": "73dae1d4-1564-4b40-9c2f-3c4c7b0068b5",
   "metadata": {
    "tags": []
   },
   "outputs": [
    {
     "name": "stdout",
     "output_type": "stream",
     "text": [
      "Deleting TensorboardRun : projects/456146517905/locations/europe-central2/tensorboards/149744687610068992/experiments/retail-experiment-autolog/runs/dbscan-20241013-run1\n",
      "TensorboardRun deleted. . Resource name: projects/456146517905/locations/europe-central2/tensorboards/149744687610068992/experiments/retail-experiment-autolog/runs/dbscan-20241013-run1\n",
      "Deleting TensorboardRun resource: projects/456146517905/locations/europe-central2/tensorboards/149744687610068992/experiments/retail-experiment-autolog/runs/dbscan-20241013-run1\n",
      "Delete TensorboardRun backing LRO: projects/456146517905/locations/europe-central2/tensorboards/149744687610068992/experiments/retail-experiment-autolog/operations/3637128389589991424\n",
      "TensorboardRun resource projects/456146517905/locations/europe-central2/tensorboards/149744687610068992/experiments/retail-experiment-autolog/runs/dbscan-20241013-run1 deleted.\n",
      "Deleting Artifact : projects/456146517905/locations/europe-central2/metadataStores/default/artifacts/retail-experiment-autolog-dbscan-20241013-run1-tb-run\n",
      "Artifact deleted. . Resource name: projects/456146517905/locations/europe-central2/metadataStores/default/artifacts/retail-experiment-autolog-dbscan-20241013-run1-tb-run\n",
      "Deleting Artifact resource: projects/456146517905/locations/europe-central2/metadataStores/default/artifacts/retail-experiment-autolog-dbscan-20241013-run1-tb-run\n",
      "Delete Artifact backing LRO: projects/456146517905/locations/europe-central2/metadataStores/default/artifacts/retail-experiment-autolog-dbscan-20241013-run1-tb-run/operations/281946667198971904\n",
      "Artifact resource projects/456146517905/locations/europe-central2/metadataStores/default/artifacts/retail-experiment-autolog-dbscan-20241013-run1-tb-run deleted.\n"
     ]
    }
   ],
   "source": [
    "tensorboard_run_artifact = vertex_ai.metadata.artifact.Artifact(artifact_name=f\"retail-experiment-autolog-dbscan-20241013-run1-tb-run\")\n",
    "tensorboard_run_resource = vertex_ai.TensorboardRun(tensorboard_run_artifact.metadata[\"resourceName\"])\n",
    "tensorboard_run_resource.delete()\n",
    "tensorboard_run_artifact.delete()"
   ]
  },
  {
   "cell_type": "code",
   "execution_count": 73,
   "id": "532b4de1-1d3e-47bb-b34f-f3a48a538478",
   "metadata": {
    "tags": []
   },
   "outputs": [
    {
     "name": "stdout",
     "output_type": "stream",
     "text": [
      "            Recency  Frequency     Monetary  Interpurchase_Time\n",
      "Cluster                                                        \n",
      "-1        72.194319    5.08102  1317.527135           41.612336\n",
      " 0       260.036437    1.00000   169.552308            0.000000\n",
      " 1        44.057692    1.00000   219.387181            0.000000\n",
      " 2       364.778846    1.00000   168.602115            0.000000\n",
      " 3       312.044776    1.00000   193.526716            0.000000\n",
      " 4       176.365385    1.00000   163.445962            0.000000\n"
     ]
    }
   ],
   "source": [
    "cluster_analysis = RFMT.groupby('Cluster').mean()\n",
    "print(cluster_analysis)"
   ]
  },
  {
   "cell_type": "code",
   "execution_count": 75,
   "id": "02f0ef2d-68ea-4ebb-9eb4-22981c5ee58f",
   "metadata": {
    "tags": []
   },
   "outputs": [
    {
     "data": {
      "text/plain": [
       "['/home/jupyter/models/dbscan/model.pkl']"
      ]
     },
     "execution_count": 75,
     "metadata": {},
     "output_type": "execute_result"
    }
   ],
   "source": [
    "# Save the Models\n",
    "joblib.dump(scaler, '/home/jupyter/models/dbscan/scaler.pkl')\n",
    "joblib.dump(db, '/home/jupyter/models/dbscan/model.pkl')"
   ]
  },
  {
   "cell_type": "code",
   "execution_count": 76,
   "id": "b799bee7-6dba-4352-94a1-edb37c37b50c",
   "metadata": {},
   "outputs": [
    {
     "name": "stdout",
     "output_type": "stream",
     "text": [
      "File /home/jupyter/models/dbscan/model.pkl uploaded to dbscan_model_bucket.\n"
     ]
    }
   ],
   "source": [
    "def upload_to_gcs(bucket_name, source_file_name, dest_file_name):\n",
    "    storage_client = storage.Client()\n",
    "    bucket = storage_client.bucket(bucket_name)\n",
    "    blob = bucket.blob(dest_file_name)\n",
    "    blob.upload_from_filename(source_file_name)\n",
    "    print(f\"File {source_file_name} uploaded to {bucket_name}.\")\n",
    "\n",
    "BUCKET_NAME = \"dbscan_model_bucket\"\n",
    "DEST_FILE_NAME = \"model.pkl\"\n",
    "SOURCE_FILE_NAME = \"/home/jupyter/models/dbscan/model.pkl\"\n",
    "\n",
    "upload_to_gcs(BUCKET_NAME, SOURCE_FILE_NAME, DEST_FILE_NAME)"
   ]
  },
  {
   "cell_type": "code",
   "execution_count": 77,
   "id": "af7e09ad-a33a-43bd-bdc7-fee8acfae6ee",
   "metadata": {
    "tags": []
   },
   "outputs": [
    {
     "name": "stdout",
     "output_type": "stream",
     "text": [
      "Creating Model\n",
      "Create Model backing LRO: projects/456146517905/locations/europe-central2/models/8158253132795609088/operations/529644646704349184\n",
      "Model created. Resource name: projects/456146517905/locations/europe-central2/models/8158253132795609088@1\n",
      "To use this Model in another session:\n",
      "model = aiplatform.Model('projects/456146517905/locations/europe-central2/models/8158253132795609088@1')\n",
      "DBSCAN Model uploaded to Vertex AI: projects/456146517905/locations/europe-central2/models/8158253132795609088\n"
     ]
    }
   ],
   "source": [
    "# Upload the kmeans model to Model Registry\n",
    "dbscan_model_artifact_path = \"/home/jupyter/models/dbscan/\"\n",
    "dbscan_display_name = \"DBSCAN_Model\"\n",
    "\n",
    "dbscan_vertex_model = vertex_ai.Model.upload(\n",
    "    display_name=dbscan_display_name,\n",
    "    artifact_uri=os.path.join(os.getcwd(), dbscan_model_artifact_path),\n",
    "    serving_container_image_uri=\"us-docker.pkg.dev/vertex-ai/prediction/sklearn-cpu.0-24:latest\",\n",
    ")\n",
    "\n",
    "print(f\"DBSCAN Model uploaded to Vertex AI: {dbscan_vertex_model.resource_name}\")"
   ]
  },
  {
   "cell_type": "code",
   "execution_count": null,
   "id": "afe87d48-082c-4d0c-8186-3802d28c09af",
   "metadata": {},
   "outputs": [],
   "source": []
  }
 ],
 "metadata": {
  "environment": {
   "kernel": "python3",
   "name": "common-cpu.m125",
   "type": "gcloud",
   "uri": "us-docker.pkg.dev/deeplearning-platform-release/gcr.io/base-cpu:m125"
  },
  "kernelspec": {
   "display_name": "Python 3 (Local)",
   "language": "python",
   "name": "python3"
  },
  "language_info": {
   "codemirror_mode": {
    "name": "ipython",
    "version": 3
   },
   "file_extension": ".py",
   "mimetype": "text/x-python",
   "name": "python",
   "nbconvert_exporter": "python",
   "pygments_lexer": "ipython3",
   "version": "3.10.15"
  }
 },
 "nbformat": 4,
 "nbformat_minor": 5
}
